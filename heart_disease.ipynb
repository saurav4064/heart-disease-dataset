import numpy as np                                                              
import pandas as pd                                                             
import matplotlib.pyplot as plt                                                 
from sklearn.ensemble import RandomForestClassifier
import seaborn as sns
from sklearn.ensemble import RandomForestClassifier
from sklearn.metrics import classification_report, confusion_matrix
from sklearn import metrics

df = pd.read_csv(r'https://raw.githubusercontent.com/saurav4064/heart-disease-dataset/main/heart.csv')

df.head(10)

df.info()

df.shape

sns.pairplot(df)


X = df[['age', 'sex', 'cp', 'trestbps', 'chol', 'fbs', 'restecg', 'thalach',
       'exang', 'oldpeak', 'slope', 'ca', 'thal']]
y = df['target']
print('shape of X and y respectively :', X.shape, y.shape)

from sklearn.model_selection import train_test_split
X_train, X_test, y_train, y_test = train_test_split(X, y, test_size=0.2, random_state=0)
print('shape of X and y respectively (train) :', X_train.shape, y_train.shape)
print('shape of X and y respectively (test) :', X_test.shape, y_test.shape)

model = RandomForestClassifier()

model

model.fit(X_train, y_train)
y_pred = model.predict(X_test)

y_pred = model.predict(X_test)

y_pred

model.predict_proba(X_test)

confusion_matrix(y_test,y_pred)

print(classification_report(y_test, y_pred))

y_test.shape

print("Accuracy:",metrics.accuracy_score(y_test, y_pred))
